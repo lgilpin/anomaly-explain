{
 "cells": [
  {
   "cell_type": "markdown",
   "id": "45922ef7",
   "metadata": {},
   "source": [
    "# Pill Working Example\n",
    "https://arxiv.org/abs/2012.02904\n",
    "\n",
    "The justification is that `(onDay pill Wednesday) (beforeTime pill afternoon)`. "
   ]
  },
  {
   "cell_type": "code",
   "execution_count": 1,
   "id": "c6d42bd3",
   "metadata": {},
   "outputs": [],
   "source": [
    "import commonsense.conceptnet as kb\n",
    "from commonsense.logical_classes import Fact, to_data_frame, parse_file_to_fact_list, parse_file_to_event_list, parse_raw_file_to_event_list, create_facts_from_file\n",
    "from monitor.reasonableness_monitor import SnapshotMonitor"
   ]
  },
  {
   "cell_type": "code",
   "execution_count": 2,
   "id": "cb4ebf02",
   "metadata": {},
   "outputs": [
    {
     "name": "stdout",
     "output_type": "stream",
     "text": [
      "Preference is pill before activity\n",
      "chain is nothing adding more\n",
      "has a chain, currently is [Fact(subject='pill', predicate=' before', object='appt', reason='Rule fired', score=1.0, count=1)]\n",
      "Explanation is [Fact(subject='pill', predicate=' before', object='appt', reason='Rule fired', score=1.0, count=1), Fact(subject='appt', predicate=' IsA', object='activity', reason='Given', score=1.0, count=1)]\n",
      "(pill  before appt), (appt  IsA activity), (appt  atTime 1pm), (appt  onDay Wednesday)\n"
     ]
    }
   ],
   "source": [
    "events = [Fact('Levodopa', 'onDate', 'Wednesday')]\n",
    "preference = Fact('pill', 'before', 'activity')\n",
    "\n",
    "cn = kb.ConceptNet()\n",
    "pill_monitor = SnapshotMonitor()\n",
    "\n",
    "additional_facts = create_facts_from_file(\"pill_facts.txt\")  # additional information\n",
    "facts=pill_monitor.explain(events, additional_facts, preference, verbose=True)\n",
    "\n",
    "print(facts)"
   ]
  },
  {
   "cell_type": "markdown",
   "id": "94ed7a02",
   "metadata": {},
   "source": [
    "# Hinge Example"
   ]
  },
  {
   "cell_type": "code",
   "execution_count": 3,
   "id": "039150be",
   "metadata": {},
   "outputs": [
    {
     "name": "stdout",
     "output_type": "stream",
     "text": [
      "Preference is screw before leg\n",
      "chain is nothing adding more\n",
      "has a chain, currently is [Fact(subject='screw', predicate=' into', object='leg', reason='Given', score=1.0, count=1)]\n",
      "has a chain, currently is [Fact(subject='screw', predicate=' into', object='leg', reason='Given', score=1.0, count=1), Fact(subject='leg', predicate='attach', object='top', reason=None, score=1.0, count=1)]\n",
      "has a chain, currently is [Fact(subject='screw', predicate=' into', object='leg', reason='Given', score=1.0, count=1), Fact(subject='leg', predicate='attach', object='top', reason=None, score=1.0, count=1), Fact(subject='top', predicate=' flip', object='top1', reason='Given', score=1.0, count=1)]\n",
      "Explanation is [Fact(subject='screw', predicate=' into', object='leg', reason='Given', score=1.0, count=1), Fact(subject='leg', predicate='attach', object='top', reason=None, score=1.0, count=1), Fact(subject='top', predicate=' flip', object='top1', reason='Given', score=1.0, count=1), Fact(subject='top1', predicate=' attach', object='leg', reason='Given', score=1.0, count=1)]\n",
      "(screw  into leg), (leg attach top), (top  flip top1), (top1  attach leg)\n"
     ]
    }
   ],
   "source": [
    "events = [Fact('leg', 'attach', 'top')]\n",
    "preference = Fact('screw', 'before', 'leg')\n",
    "\n",
    "cn = kb.ConceptNet()\n",
    "pill_monitor = SnapshotMonitor()\n",
    "\n",
    "additional_facts = create_facts_from_file(\"furniture_facts.txt\")  # additional information\n",
    "facts=pill_monitor.explain(events, additional_facts, preference=preference,  verbose=True, kb_query=False)\n",
    "\n",
    "print(facts)"
   ]
  },
  {
   "cell_type": "markdown",
   "id": "674352bc",
   "metadata": {},
   "source": [
    "# Testing Analogy"
   ]
  },
  {
   "cell_type": "markdown",
   "id": "b150f086",
   "metadata": {},
   "source": [
    "# Explaining B above D\n",
    "We are using analogy to infer that B is above D because we know that A is on B, B is on C, and C on D.  "
   ]
  },
  {
   "cell_type": "code",
   "execution_count": 4,
   "id": "ac10bf10",
   "metadata": {},
   "outputs": [],
   "source": [
    "def parse(program):\n",
    "    \"Read a Scheme expression from a string.\"\n",
    "    return read_from_tokens(tokenize(program))\n",
    "\n",
    "def tokenize(s):\n",
    "    \"Convert a string into a list of tokens.\"\n",
    "    return s.replace('(',' ( ').replace(')',' ) ').split()\n",
    "\n",
    "def read_from_tokens(tokens):\n",
    "    \"Read an expression from a sequence of tokens.\"\n",
    "    if len(tokens) == 0:\n",
    "        raise SyntaxError('unexpected EOF while reading')\n",
    "    token = tokens.pop(0)\n",
    "    if '(' == token:\n",
    "        L = []\n",
    "        while tokens[0] != ')':\n",
    "            L.append(read_from_tokens(tokens))\n",
    "        tokens.pop(0) # pop off ')'\n",
    "        return L\n",
    "    elif ')' == token:\n",
    "        raise SyntaxError('unexpected )')\n",
    "    else:\n",
    "        return atom(token)\n",
    "\n",
    "def atom(token):\n",
    "    \"Numbers become numbers; every other token is a symbol.\"\n",
    "    try: \n",
    "        temp = int(token)\n",
    "    except ValueError:\n",
    "        try: \n",
    "            temp = float(token)\n",
    "        except ValueError:\n",
    "            return Symbol(token)"
   ]
  },
  {
   "cell_type": "code",
   "execution_count": 5,
   "id": "efb32452",
   "metadata": {
    "scrolled": true
   },
   "outputs": [
    {
     "name": "stdout",
     "output_type": "stream",
     "text": [
      "Found 40 usable lines and facts\n",
      "(candidateInferenceContent (CiFn 0 7 (MatcherFn 18 0)) (subtask (isAbove B D) (isOn C D)))\n"
     ]
    },
    {
     "ename": "NameError",
     "evalue": "name 'Symbol' is not defined",
     "output_type": "error",
     "traceback": [
      "\u001b[0;31m---------------------------------------------------------------------------\u001b[0m",
      "\u001b[0;31mValueError\u001b[0m                                Traceback (most recent call last)",
      "Input \u001b[0;32mIn [4]\u001b[0m, in \u001b[0;36matom\u001b[0;34m(token)\u001b[0m\n\u001b[1;32m     27\u001b[0m \u001b[38;5;28;01mtry\u001b[39;00m: \n\u001b[0;32m---> 28\u001b[0m     temp \u001b[38;5;241m=\u001b[39m \u001b[38;5;28;43mint\u001b[39;49m\u001b[43m(\u001b[49m\u001b[43mtoken\u001b[49m\u001b[43m)\u001b[49m\n\u001b[1;32m     29\u001b[0m \u001b[38;5;28;01mexcept\u001b[39;00m \u001b[38;5;167;01mValueError\u001b[39;00m:\n",
      "\u001b[0;31mValueError\u001b[0m: invalid literal for int() with base 10: 'candidateInferenceContent'",
      "\nDuring handling of the above exception, another exception occurred:\n",
      "\u001b[0;31mValueError\u001b[0m                                Traceback (most recent call last)",
      "Input \u001b[0;32mIn [4]\u001b[0m, in \u001b[0;36matom\u001b[0;34m(token)\u001b[0m\n\u001b[1;32m     30\u001b[0m \u001b[38;5;28;01mtry\u001b[39;00m: \n\u001b[0;32m---> 31\u001b[0m     temp \u001b[38;5;241m=\u001b[39m \u001b[38;5;28;43mfloat\u001b[39;49m\u001b[43m(\u001b[49m\u001b[43mtoken\u001b[49m\u001b[43m)\u001b[49m\n\u001b[1;32m     32\u001b[0m \u001b[38;5;28;01mexcept\u001b[39;00m \u001b[38;5;167;01mValueError\u001b[39;00m:\n",
      "\u001b[0;31mValueError\u001b[0m: could not convert string to float: 'candidateInferenceContent'",
      "\nDuring handling of the above exception, another exception occurred:\n",
      "\u001b[0;31mNameError\u001b[0m                                 Traceback (most recent call last)",
      "Input \u001b[0;32mIn [5]\u001b[0m, in \u001b[0;36m<module>\u001b[0;34m\u001b[0m\n\u001b[1;32m     29\u001b[0m             \u001b[38;5;28mprint\u001b[39m(sentence)\n\u001b[1;32m     30\u001b[0m             \u001b[38;5;28mprint\u001b[39m(parse(sentence))\n\u001b[0;32m---> 32\u001b[0m \u001b[43mexplain_analogy\u001b[49m\u001b[43m(\u001b[49m\u001b[38;5;124;43m'\u001b[39;49m\u001b[38;5;124;43m(isAbove B D)\u001b[39;49m\u001b[38;5;124;43m'\u001b[39;49m\u001b[43m,\u001b[49m\u001b[43m \u001b[49m\u001b[43mmy_facts\u001b[49m\u001b[43m)\u001b[49m\n",
      "Input \u001b[0;32mIn [5]\u001b[0m, in \u001b[0;36mexplain_analogy\u001b[0;34m(query, facts)\u001b[0m\n\u001b[1;32m     28\u001b[0m \u001b[38;5;28;01mif\u001b[39;00m query \u001b[38;5;129;01min\u001b[39;00m sentence:\n\u001b[1;32m     29\u001b[0m     \u001b[38;5;28mprint\u001b[39m(sentence)\n\u001b[0;32m---> 30\u001b[0m     \u001b[38;5;28mprint\u001b[39m(\u001b[43mparse\u001b[49m\u001b[43m(\u001b[49m\u001b[43msentence\u001b[49m\u001b[43m)\u001b[49m)\n",
      "Input \u001b[0;32mIn [4]\u001b[0m, in \u001b[0;36mparse\u001b[0;34m(program)\u001b[0m\n\u001b[1;32m      1\u001b[0m \u001b[38;5;28;01mdef\u001b[39;00m \u001b[38;5;21mparse\u001b[39m(program):\n\u001b[1;32m      2\u001b[0m     \u001b[38;5;124m\"\u001b[39m\u001b[38;5;124mRead a Scheme expression from a string.\u001b[39m\u001b[38;5;124m\"\u001b[39m\n\u001b[0;32m----> 3\u001b[0m     \u001b[38;5;28;01mreturn\u001b[39;00m \u001b[43mread_from_tokens\u001b[49m\u001b[43m(\u001b[49m\u001b[43mtokenize\u001b[49m\u001b[43m(\u001b[49m\u001b[43mprogram\u001b[49m\u001b[43m)\u001b[49m\u001b[43m)\u001b[49m\n",
      "Input \u001b[0;32mIn [4]\u001b[0m, in \u001b[0;36mread_from_tokens\u001b[0;34m(tokens)\u001b[0m\n\u001b[1;32m     15\u001b[0m L \u001b[38;5;241m=\u001b[39m []\n\u001b[1;32m     16\u001b[0m \u001b[38;5;28;01mwhile\u001b[39;00m tokens[\u001b[38;5;241m0\u001b[39m] \u001b[38;5;241m!=\u001b[39m \u001b[38;5;124m'\u001b[39m\u001b[38;5;124m)\u001b[39m\u001b[38;5;124m'\u001b[39m:\n\u001b[0;32m---> 17\u001b[0m     L\u001b[38;5;241m.\u001b[39mappend(\u001b[43mread_from_tokens\u001b[49m\u001b[43m(\u001b[49m\u001b[43mtokens\u001b[49m\u001b[43m)\u001b[49m)\n\u001b[1;32m     18\u001b[0m tokens\u001b[38;5;241m.\u001b[39mpop(\u001b[38;5;241m0\u001b[39m) \u001b[38;5;66;03m# pop off ')'\u001b[39;00m\n\u001b[1;32m     19\u001b[0m \u001b[38;5;28;01mreturn\u001b[39;00m L\n",
      "Input \u001b[0;32mIn [4]\u001b[0m, in \u001b[0;36mread_from_tokens\u001b[0;34m(tokens)\u001b[0m\n\u001b[1;32m     21\u001b[0m     \u001b[38;5;28;01mraise\u001b[39;00m \u001b[38;5;167;01mSyntaxError\u001b[39;00m(\u001b[38;5;124m'\u001b[39m\u001b[38;5;124munexpected )\u001b[39m\u001b[38;5;124m'\u001b[39m)\n\u001b[1;32m     22\u001b[0m \u001b[38;5;28;01melse\u001b[39;00m:\n\u001b[0;32m---> 23\u001b[0m     \u001b[38;5;28;01mreturn\u001b[39;00m \u001b[43matom\u001b[49m\u001b[43m(\u001b[49m\u001b[43mtoken\u001b[49m\u001b[43m)\u001b[49m\n",
      "Input \u001b[0;32mIn [4]\u001b[0m, in \u001b[0;36matom\u001b[0;34m(token)\u001b[0m\n\u001b[1;32m     31\u001b[0m     temp \u001b[38;5;241m=\u001b[39m \u001b[38;5;28mfloat\u001b[39m(token)\n\u001b[1;32m     32\u001b[0m \u001b[38;5;28;01mexcept\u001b[39;00m \u001b[38;5;167;01mValueError\u001b[39;00m:\n\u001b[0;32m---> 33\u001b[0m     \u001b[38;5;28;01mreturn\u001b[39;00m \u001b[43mSymbol\u001b[49m(token)\n",
      "\u001b[0;31mNameError\u001b[0m: name 'Symbol' is not defined"
     ]
    }
   ],
   "source": [
    "def read_relations(): \n",
    "    file1 = open('datasets/PAX/analogy/sme_relations_b_above_d.txt', 'r')\n",
    "    count = 0\n",
    "    lines = []\n",
    "    continue_phrase = False\n",
    "\n",
    "    while True:\n",
    "        count += 1\n",
    "\n",
    "        # Get next line from file\n",
    "        line = file1.readline()\n",
    "\n",
    "        # if line is empty\n",
    "        # end of file is reached\n",
    "        if not line:\n",
    "            break\n",
    "        elif line.strip()==\"\" or line.startswith(\";;\"):\n",
    "            continue\n",
    "        else:\n",
    "            lines.append(line.strip())\n",
    "    print(\"Found %d usable lines and facts\"%len(lines))\n",
    "    return lines\n",
    "\n",
    "my_facts = read_relations()\n",
    "\n",
    "def explain_analogy(query: str, facts):\n",
    "    for sentence in facts:\n",
    "        if query in sentence:\n",
    "            print(sentence)\n",
    "            print(parse(sentence))\n",
    "\n",
    "explain_analogy('(isAbove B D)', my_facts)"
   ]
  },
  {
   "cell_type": "markdown",
   "id": "66f9c568",
   "metadata": {},
   "source": [
    "# Small examples for Demo\n"
   ]
  },
  {
   "cell_type": "code",
   "execution_count": null,
   "id": "91577e82",
   "metadata": {},
   "outputs": [],
   "source": [
    "from reasoner.production import IF, AND, OR, NOT, THEN, DELETE, forward_chain, pretty_goal_tree, match, populate, simplify\n",
    "from reasoner.data import *\n",
    "import pprint\n",
    "\n",
    "\n",
    "pp = pprint.PrettyPrinter(indent=1)\n",
    "pprint = pp.pprint"
   ]
  },
  {
   "cell_type": "code",
   "execution_count": null,
   "id": "d6654961",
   "metadata": {},
   "outputs": [],
   "source": [
    "query = Fact('penguin', 'IsA', 'animal')\n",
    "\n",
    "cn = kb.ConceptNet()\n",
    "monitor = SnapshotMonitor()\n",
    "\n",
    "# Still needs to be translated to facts. \n",
    "transitive_rule = IF(AND('(?x) IsA (?y)', '(?y) IsA (?z)'),\n",
    "                     THEN('(?x) IsA (?z)'))\n",
    "facts = monitor.explain_fact(query)\n",
    "data_facts = [fact.to_string() for fact in facts]\n",
    "print(\"started with %s facts\"%len(data_facts))\n",
    "\n",
    "chained_data = forward_chain([transitive_rule], data_facts)\n",
    "\n",
    "print(\"ended with %s facts\"%len(chained_data))"
   ]
  },
  {
   "cell_type": "code",
   "execution_count": null,
   "id": "73b6bda5",
   "metadata": {},
   "outputs": [],
   "source": [
    "def backchain_to_goal_tree(rules, hypothesis):\n",
    "    \"\"\"\n",
    "    Takes a hypothesis (string) and a list of rules (list\n",
    "    of IF objects), returning an AND/OR tree representing the\n",
    "    backchain of possible statements we may need to test\n",
    "    to determine if this hypothesis is reachable or not.\n",
    "\n",
    "    This method should return an AND/OR tree, that is, an\n",
    "    AND or OR object, whose constituents are the subgoals that\n",
    "    need to be tested. The leaves of this tree should be strings\n",
    "    (possibly with unbound variables), *not* AND or OR objects.\n",
    "    Make sure to use simplify(...) to flatten trees where appropriate.\n",
    "    \"\"\"\n",
    "    top_level = [hypothesis]\n",
    "    \n",
    "    for rule in rules:\n",
    "        matching = match(rule.consequent(), hypothesis)\n",
    "    \n",
    "        if matching is not None:\n",
    "            tree = []\n",
    "            next = populate(rule.antecedent(), matching)\n",
    "            ant_stuff = type(rule.antecedent())\n",
    "    \n",
    "            if ant_stuff is str:  # leaf\n",
    "                tree.append(backchain_to_goal_tree(rules, next))\n",
    "            else:  # it's a phrase\n",
    "                for hyp in next:\n",
    "                    tree.append(backchain_to_goal_tree(rules, hyp))\n",
    "    \n",
    "            if ant_stuff == OR:\n",
    "                top_level.append(OR(tree))\n",
    "            else:\n",
    "                top_level.append(AND(tree))\n",
    "    return simplify(OR(top_level))\n",
    "\n",
    "# pretty_goal_tree(backchain_to_goal_tree(zookeeper_rules, 'opus is a penguin'))\n",
    "# result = backchain_to_goal_tree(zookeeper_rules, 'opus is a penguin')\n",
    "\n",
    "#pretty_goal_tree(backchain_to_goal_tree([transitive_rule], 'penguin IsA animal'))"
   ]
  },
  {
   "cell_type": "markdown",
   "id": "d4d05a13",
   "metadata": {},
   "source": [
    "# Lego example\n"
   ]
  },
  {
   "cell_type": "code",
   "execution_count": null,
   "id": "2e1e0ab3",
   "metadata": {},
   "outputs": [],
   "source": [
    "from commonsense.logical_classes import preprocess\n",
    "\n",
    "events = preprocess()  # This reads in the file: allnewsemanticdatawithmultimodal0025.txt by default\n",
    "cn = kb.ConceptNet()\n",
    "cn_monitor = SnapshotMonitor()\n",
    "\n",
    "cn_monitor.explain(events, additional_facts)"
   ]
  },
  {
   "cell_type": "markdown",
   "id": "74730b65",
   "metadata": {},
   "source": [
    "# Older Lego Example"
   ]
  },
  {
   "cell_type": "code",
   "execution_count": null,
   "id": "64f6712a",
   "metadata": {
    "scrolled": false
   },
   "outputs": [],
   "source": [
    "import commonsense.conceptnet as kb\n",
    "from commonsense.logical_classes import to_data_frame, parse_file_to_fact_list, parse_file_to_event_list, parse_raw_file_to_event_list, create_facts_from_file\n",
    "from monitor.reasonableness_monitor import SnapshotMonitor\n",
    "\n",
    "cn = kb.ConceptNet()  # choose your KB \n",
    "cn_monitor = SnapshotMonitor()  # labels=labels, data=data, rules=rules)\n",
    "print(\"Made a ConceptNet monitor, now trying to explain\")\n",
    "\n",
    "events = parse_file_to_event_list(\"datasets/PAX/output_feb25.txt\")  # This reads in the file. \n",
    "additional_facts = create_facts_from_file(\"gaze_facts.txt\") # should call rules \n",
    "cn_monitor.explain_events(events, additional_facts)\n"
   ]
  },
  {
   "cell_type": "code",
   "execution_count": null,
   "id": "0dd97e0a",
   "metadata": {},
   "outputs": [],
   "source": [
    "facts\n",
    "\n",
    "f = to_data_frame(facts)\n",
    "events = f.groupby(\"subject\")\n",
    "f.groupby(\"subject\").count()\n",
    "events.first()\n",
    "events.nth(0)\n",
    "\n",
    "facts"
   ]
  },
  {
   "cell_type": "markdown",
   "id": "3687cea4",
   "metadata": {},
   "source": []
  },
  {
   "cell_type": "code",
   "execution_count": null,
   "id": "1648277d",
   "metadata": {},
   "outputs": [],
   "source": []
  },
  {
   "cell_type": "code",
   "execution_count": null,
   "id": "eb36474d",
   "metadata": {},
   "outputs": [],
   "source": []
  }
 ],
 "metadata": {
  "kernelspec": {
   "display_name": "Python 3 (ipykernel)",
   "language": "python",
   "name": "python3"
  },
  "language_info": {
   "codemirror_mode": {
    "name": "ipython",
    "version": 3
   },
   "file_extension": ".py",
   "mimetype": "text/x-python",
   "name": "python",
   "nbconvert_exporter": "python",
   "pygments_lexer": "ipython3",
   "version": "3.9.1"
  }
 },
 "nbformat": 4,
 "nbformat_minor": 5
}
