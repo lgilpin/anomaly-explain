{
 "cells": [
  {
   "cell_type": "markdown",
   "id": "45922ef7",
   "metadata": {},
   "source": [
    "# Pill Working Example\n",
    "https://arxiv.org/abs/2012.02904\n",
    "\n",
    "The justification is that `(onDay pill Wednesday) (beforeTime pill afternoon)`. And the final explanation reads in a series of symbolic triples: `(prefers user (before pill activity)) (IsA user activity) (atTime appt 1pm) (onDay appt Wednesday) (IsA 1pm afternoon)`."
   ]
  },
  {
   "cell_type": "code",
   "execution_count": 1,
   "id": "c6d42bd3",
   "metadata": {},
   "outputs": [],
   "source": [
    "import commonsense.conceptnet as kb\n",
    "from commonsense.logical_classes import Fact, to_data_frame, parse_file_to_fact_list, parse_file_to_event_list, parse_raw_file_to_event_list, create_facts_from_file\n",
    "from monitor.reasonableness_monitor import SnapshotMonitor"
   ]
  },
  {
   "cell_type": "code",
   "execution_count": 2,
   "id": "cb4ebf02",
   "metadata": {},
   "outputs": [
    {
     "name": "stdout",
     "output_type": "stream",
     "text": [
      "                      subject predicate        object      reason  score  \\\n",
      "0                   wednesday       IsA     a weekday  ConceptNet    1.0   \n",
      "1                   wednesday       IsA       weekday  ConceptNet    1.0   \n",
      "2  the fourth day of the week       IsA     wednesday  ConceptNet    1.0   \n",
      "3                   wednesday       IsA       weekday  ConceptNet    1.0   \n",
      "4                   wednesday       IsA  business day  ConceptNet    1.0   \n",
      "5                   wednesday       IsA           day  ConceptNet    1.0   \n",
      "\n",
      "   count  \n",
      "0      1  \n",
      "1      1  \n",
      "2      1  \n",
      "3      1  \n",
      "4      1  \n",
      "5      1  \n",
      "                       subject predicate        object      reason  score  \\\n",
      "0                    wednesday       IsA     a weekday  ConceptNet    1.0   \n",
      "1                    wednesday       IsA       weekday  ConceptNet    1.0   \n",
      "2   the fourth day of the week       IsA     wednesday  ConceptNet    1.0   \n",
      "3                    wednesday       IsA       weekday  ConceptNet    1.0   \n",
      "4                    wednesday       IsA  business day  ConceptNet    1.0   \n",
      "5                    wednesday       IsA           day  ConceptNet    1.0   \n",
      "6                     Levodopa       IsA          pill       Given    1.0   \n",
      "7                         appt       IsA      activity       Given    1.0   \n",
      "8                         appt    atTime           1pm    calendar    1.0   \n",
      "9                         appt     onDay     Wednesday    calendar    1.0   \n",
      "10                         1pm       IsA     afternoon    calendar    1.0   \n",
      "\n",
      "    count  \n",
      "0       1  \n",
      "1       1  \n",
      "2       1  \n",
      "3       1  \n",
      "4       1  \n",
      "5       1  \n",
      "6       1  \n",
      "7       1  \n",
      "8       1  \n",
      "9       1  \n",
      "10      1  \n",
      "Preference is pill before activity\n"
     ]
    },
    {
     "ename": "AttributeError",
     "evalue": "'SnapshotMonitor' object has no attribute 'chain'",
     "output_type": "error",
     "traceback": [
      "\u001b[0;31m---------------------------------------------------------------------------\u001b[0m",
      "\u001b[0;31mAttributeError\u001b[0m                            Traceback (most recent call last)",
      "Input \u001b[0;32mIn [2]\u001b[0m, in \u001b[0;36m<module>\u001b[0;34m\u001b[0m\n\u001b[1;32m      5\u001b[0m pill_monitor \u001b[38;5;241m=\u001b[39m SnapshotMonitor()\n\u001b[1;32m      7\u001b[0m additional_facts \u001b[38;5;241m=\u001b[39m create_facts_from_file(\u001b[38;5;124m\"\u001b[39m\u001b[38;5;124mpill_facts.txt\u001b[39m\u001b[38;5;124m\"\u001b[39m)  \u001b[38;5;66;03m# additional information\u001b[39;00m\n\u001b[0;32m----> 8\u001b[0m \u001b[43mpill_monitor\u001b[49m\u001b[38;5;241;43m.\u001b[39;49m\u001b[43mexplain\u001b[49m\u001b[43m(\u001b[49m\u001b[43mevents\u001b[49m\u001b[43m,\u001b[49m\u001b[43m \u001b[49m\u001b[43madditional_facts\u001b[49m\u001b[43m,\u001b[49m\u001b[43m \u001b[49m\u001b[43mpreference\u001b[49m\u001b[43m)\u001b[49m\n",
      "File \u001b[0;32m~/workspace/anomaly-explain/monitor/reasonableness_monitor.py:296\u001b[0m, in \u001b[0;36mSnapshotMonitor.explain\u001b[0;34m(self, facts, add_facts, preference)\u001b[0m\n\u001b[1;32m    294\u001b[0m \u001b[38;5;28;01mif\u001b[39;00m preference:\n\u001b[1;32m    295\u001b[0m     \u001b[38;5;28mprint\u001b[39m(\u001b[38;5;124m\"\u001b[39m\u001b[38;5;124mPreference is \u001b[39m\u001b[38;5;132;01m%s\u001b[39;00m\u001b[38;5;124m\"\u001b[39m\u001b[38;5;241m%\u001b[39mpreference\u001b[38;5;241m.\u001b[39mto_string())\n\u001b[0;32m--> 296\u001b[0m explanation \u001b[38;5;241m=\u001b[39m \u001b[38;5;28;43mself\u001b[39;49m\u001b[38;5;241;43m.\u001b[39;49m\u001b[43mchain\u001b[49m()\n",
      "\u001b[0;31mAttributeError\u001b[0m: 'SnapshotMonitor' object has no attribute 'chain'"
     ]
    }
   ],
   "source": [
    "events = [Fact('Levodopa', 'onDate', 'Wednesday')]\n",
    "preference = Fact('pill', 'before', 'activity')\n",
    "\n",
    "cn = kb.ConceptNet()\n",
    "pill_monitor = SnapshotMonitor()\n",
    "\n",
    "additional_facts = create_facts_from_file(\"pill_facts.txt\")  # additional information\n",
    "pill_monitor.explain(events, additional_facts, preference)"
   ]
  },
  {
   "cell_type": "code",
   "execution_count": 18,
   "id": "905a4242",
   "metadata": {},
   "outputs": [],
   "source": [
    "from reasoner.production import IF, AND, OR, NOT, THEN, DELETE, forward_chain, pretty_goal_tree, match, populate, simplify\n",
    "from reasoner.data import *\n",
    "import pprint\n",
    "\n",
    "transitive_rule = IF(AND('(?x) IsA (?y)', '(?y) IsA (?z)'),\n",
    "                     THEN('(?x) IsA (?z)'))\n",
    "\n",
    "# TODO: Get penguin facts\n",
    "# TODO: Get rules\n"
   ]
  },
  {
   "cell_type": "markdown",
   "id": "56811e3e",
   "metadata": {},
   "source": [
    "# Small examples for Demo\n"
   ]
  },
  {
   "cell_type": "code",
   "execution_count": 19,
   "id": "06164429",
   "metadata": {},
   "outputs": [
    {
     "name": "stdout",
     "output_type": "stream",
     "text": [
      "started with 211 facts\n",
      "ended with 213 facts\n"
     ]
    }
   ],
   "source": [
    "import pprint \n",
    "\n",
    "pp = pprint.PrettyPrinter(indent=1)\n",
    "pprint = pp.pprint\n",
    "\n",
    "query = Fact('penguin', 'IsA', 'animal')\n",
    "\n",
    "cn = kb.ConceptNet()\n",
    "monitor = SnapshotMonitor()\n",
    "\n",
    "facts = monitor.explain_fact(query)\n",
    "data_facts = [fact.to_string() for fact in facts]\n",
    "print(\"started with %s facts\"%len(data_facts))\n",
    "#print(facts)\n",
    "\n",
    "chained_data = forward_chain([transitive_rule], data_facts)\n",
    "\n",
    "print(\"ended with %s facts\"%len(chained_data))"
   ]
  },
  {
   "cell_type": "code",
   "execution_count": 23,
   "id": "8e64126f",
   "metadata": {},
   "outputs": [
    {
     "ename": "KeyError",
     "evalue": "'y'",
     "output_type": "error",
     "traceback": [
      "\u001b[0;31m---------------------------------------------------------------------------\u001b[0m",
      "\u001b[0;31mKeyError\u001b[0m                                  Traceback (most recent call last)",
      "Input \u001b[0;32mIn [23]\u001b[0m, in \u001b[0;36m<module>\u001b[0;34m\u001b[0m\n\u001b[1;32m     34\u001b[0m     \u001b[38;5;28;01mreturn\u001b[39;00m simplify(OR(top_level))\n\u001b[1;32m     36\u001b[0m \u001b[38;5;66;03m# pretty_goal_tree(backchain_to_goal_tree(zookeeper_rules, 'opus is a penguin'))\u001b[39;00m\n\u001b[1;32m     37\u001b[0m \u001b[38;5;66;03m# result = backchain_to_goal_tree(zookeeper_rules, 'opus is a penguin')\u001b[39;00m\n\u001b[0;32m---> 39\u001b[0m pretty_goal_tree(\u001b[43mbackchain_to_goal_tree\u001b[49m\u001b[43m(\u001b[49m\u001b[43m[\u001b[49m\u001b[43mtransitive_rule\u001b[49m\u001b[43m]\u001b[49m\u001b[43m,\u001b[49m\u001b[43m \u001b[49m\u001b[38;5;124;43m'\u001b[39;49m\u001b[38;5;124;43mpenguin IsA animal\u001b[39;49m\u001b[38;5;124;43m'\u001b[39;49m\u001b[43m)\u001b[49m)\n",
      "Input \u001b[0;32mIn [23]\u001b[0m, in \u001b[0;36mbackchain_to_goal_tree\u001b[0;34m(rules, hypothesis)\u001b[0m\n\u001b[1;32m     19\u001b[0m \u001b[38;5;28;01mif\u001b[39;00m matching \u001b[38;5;129;01mis\u001b[39;00m \u001b[38;5;129;01mnot\u001b[39;00m \u001b[38;5;28;01mNone\u001b[39;00m:\n\u001b[1;32m     20\u001b[0m     tree \u001b[38;5;241m=\u001b[39m []\n\u001b[0;32m---> 21\u001b[0m     \u001b[38;5;28mnext\u001b[39m \u001b[38;5;241m=\u001b[39m \u001b[43mpopulate\u001b[49m\u001b[43m(\u001b[49m\u001b[43mrule\u001b[49m\u001b[38;5;241;43m.\u001b[39;49m\u001b[43mantecedent\u001b[49m\u001b[43m(\u001b[49m\u001b[43m)\u001b[49m\u001b[43m,\u001b[49m\u001b[43m \u001b[49m\u001b[43mmatching\u001b[49m\u001b[43m)\u001b[49m\n\u001b[1;32m     22\u001b[0m     ant_stuff \u001b[38;5;241m=\u001b[39m \u001b[38;5;28mtype\u001b[39m(rule\u001b[38;5;241m.\u001b[39mantecedent())\n\u001b[1;32m     24\u001b[0m     \u001b[38;5;28;01mif\u001b[39;00m ant_stuff \u001b[38;5;129;01mis\u001b[39;00m \u001b[38;5;28mstr\u001b[39m:  \u001b[38;5;66;03m# leaf\u001b[39;00m\n",
      "File \u001b[0;32m~/workspace/anomaly-explain/reasoner/production.py:67\u001b[0m, in \u001b[0;36minstantiate\u001b[0;34m(template, values_dict)\u001b[0m\n",
      "File \u001b[0;32m~/workspace/anomaly-explain/reasoner/production.py:67\u001b[0m, in \u001b[0;36m<listcomp>\u001b[0;34m(.0)\u001b[0m\n",
      "File \u001b[0;32m~/workspace/anomaly-explain/reasoner/production.py:70\u001b[0m, in \u001b[0;36minstantiate\u001b[0;34m(template, values_dict)\u001b[0m\n",
      "\u001b[0;31mKeyError\u001b[0m: 'y'"
     ]
    }
   ],
   "source": [
    "def backchain_to_goal_tree(rules, hypothesis):\n",
    "    \"\"\"\n",
    "    Takes a hypothesis (string) and a list of rules (list\n",
    "    of IF objects), returning an AND/OR tree representing the\n",
    "    backchain of possible statements we may need to test\n",
    "    to determine if this hypothesis is reachable or not.\n",
    "\n",
    "    This method should return an AND/OR tree, that is, an\n",
    "    AND or OR object, whose constituents are the subgoals that\n",
    "    need to be tested. The leaves of this tree should be strings\n",
    "    (possibly with unbound variables), *not* AND or OR objects.\n",
    "    Make sure to use simplify(...) to flatten trees where appropriate.\n",
    "    \"\"\"\n",
    "    top_level = [hypothesis]\n",
    "    \n",
    "    for rule in rules:\n",
    "        matching = match(rule.consequent(), hypothesis)\n",
    "    \n",
    "        if matching is not None:\n",
    "            tree = []\n",
    "            next = populate(rule.antecedent(), matching)\n",
    "            ant_stuff = type(rule.antecedent())\n",
    "    \n",
    "            if ant_stuff is str:  # leaf\n",
    "                tree.append(backchain_to_goal_tree(rules, next))\n",
    "            else:  # it's a phrase\n",
    "                for hyp in next:\n",
    "                    tree.append(backchain_to_goal_tree(rules, hyp))\n",
    "    \n",
    "            if ant_stuff == OR:\n",
    "                top_level.append(OR(tree))\n",
    "            else:\n",
    "                top_level.append(AND(tree))\n",
    "    return simplify(OR(top_level))\n",
    "\n",
    "# pretty_goal_tree(backchain_to_goal_tree(zookeeper_rules, 'opus is a penguin'))\n",
    "# result = backchain_to_goal_tree(zookeeper_rules, 'opus is a penguin')\n",
    "\n",
    "pretty_goal_tree(backchain_to_goal_tree([transitive_rule], 'penguin IsA animal'))"
   ]
  },
  {
   "cell_type": "code",
   "execution_count": null,
   "id": "e2e646b2",
   "metadata": {},
   "outputs": [],
   "source": [
    "import pprint \n",
    "\n",
    "pp = pprint.PrettyPrinter(indent=1)\n",
    "pprint = pp.pprint\n",
    "\n",
    "query = Fact('penguin', 'IsA', 'animal')\n",
    "\n",
    "cn = kb.ConceptNet()\n",
    "monitor = SnapshotMonitor()\n",
    "\n",
    "facts = monitor.explain_fact(query)\n",
    "# data_facts = [fact.to_string() for fact in facts]\n",
    "# print(\"started with %s facts\"%len(data_facts))\n",
    "#print(facts)\n",
    "\n",
    "chained_data = forward_chain([transitive_rule], facts)\n",
    "\n",
    "print(\"ended with %s facts\"%len(chained_data))"
   ]
  },
  {
   "cell_type": "markdown",
   "id": "d4d05a13",
   "metadata": {},
   "source": [
    "# Lego example\n"
   ]
  },
  {
   "cell_type": "code",
   "execution_count": null,
   "id": "2e1e0ab3",
   "metadata": {},
   "outputs": [],
   "source": [
    "from commonsense.logical_classes import preprocess\n",
    "\n",
    "events = preprocess()  # This reads in the file: allnewsemanticdatawithmultimodal0025.txt by default\n",
    "cn = kb.ConceptNet()\n",
    "cn_monitor = SnapshotMonitor()\n",
    "\n",
    "cn_monitor.explain(events, additional_facts)"
   ]
  },
  {
   "cell_type": "markdown",
   "id": "74730b65",
   "metadata": {},
   "source": [
    "# Older Lego Example"
   ]
  },
  {
   "cell_type": "code",
   "execution_count": null,
   "id": "64f6712a",
   "metadata": {
    "scrolled": false
   },
   "outputs": [],
   "source": [
    "import commonsense.conceptnet as kb\n",
    "from commonsense.logical_classes import to_data_frame, parse_file_to_fact_list, parse_file_to_event_list, parse_raw_file_to_event_list, create_facts_from_file\n",
    "from monitor.reasonableness_monitor import SnapshotMonitor\n",
    "\n",
    "cn = kb.ConceptNet()  # choose your KB \n",
    "cn_monitor = SnapshotMonitor()  # labels=labels, data=data, rules=rules)\n",
    "print(\"Made a ConceptNet monitor, now trying to explain\")\n",
    "\n",
    "events = parse_file_to_event_list(\"datasets/PAX/output_feb25.txt\")  # This reads in the file. \n",
    "additional_facts = create_facts_from_file(\"gaze_facts.txt\") # should call rules \n",
    "cn_monitor.explain_events(events, additional_facts)\n"
   ]
  },
  {
   "cell_type": "code",
   "execution_count": null,
   "id": "0dd97e0a",
   "metadata": {},
   "outputs": [],
   "source": [
    "facts\n",
    "\n",
    "f = to_data_frame(facts)\n",
    "events = f.groupby(\"subject\")\n",
    "f.groupby(\"subject\").count()\n",
    "events.first()\n",
    "events.nth(0)\n",
    "\n",
    "facts"
   ]
  }
 ],
 "metadata": {
  "kernelspec": {
   "display_name": "Python 3 (ipykernel)",
   "language": "python",
   "name": "python3"
  },
  "language_info": {
   "codemirror_mode": {
    "name": "ipython",
    "version": 3
   },
   "file_extension": ".py",
   "mimetype": "text/x-python",
   "name": "python",
   "nbconvert_exporter": "python",
   "pygments_lexer": "ipython3",
   "version": "3.9.1"
  }
 },
 "nbformat": 4,
 "nbformat_minor": 5
}
